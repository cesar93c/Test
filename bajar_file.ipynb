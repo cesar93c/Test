{
 "cells": [
  {
   "cell_type": "code",
   "execution_count": 20,
   "metadata": {},
   "outputs": [],
   "source": [
    "import argparse\n",
    "import io\n",
    "import os\n",
    "import sys\n",
    "import easydict\n",
    "\n",
    "import dfareporting_utils\n",
    "from googleapiclient import http\n",
    "from oauth2client import client"
   ]
  },
  {
   "cell_type": "code",
   "execution_count": 25,
   "metadata": {},
   "outputs": [
    {
     "ename": "AttributeError",
     "evalue": "'set' object has no attribute 'items'",
     "output_type": "error",
     "traceback": [
      "\u001b[1;31m---------------------------------------------------------------------------\u001b[0m",
      "\u001b[1;31mAttributeError\u001b[0m                            Traceback (most recent call last)",
      "\u001b[1;32m<ipython-input-25-b5828420163e>\u001b[0m in \u001b[0;36m<module>\u001b[1;34m()\u001b[0m\n\u001b[0;32m     11\u001b[0m args = easydict.EasyDict({\n\u001b[0;32m     12\u001b[0m     \u001b[1;36m112473040\u001b[0m \u001b[1;33m,\u001b[0m\u001b[1;33m\u001b[0m\u001b[0m\n\u001b[1;32m---> 13\u001b[1;33m    \u001b[1;36m698165673\u001b[0m\u001b[1;33m\u001b[0m\u001b[0m\n\u001b[0m\u001b[0;32m     14\u001b[0m })\n\u001b[0;32m     15\u001b[0m \u001b[1;33m\u001b[0m\u001b[0m\n",
      "\u001b[1;32mC:\\Users\\cesar.requena\\AppData\\Local\\Continuum\\Anaconda3\\lib\\site-packages\\easydict\\__init__.py\u001b[0m in \u001b[0;36m__init__\u001b[1;34m(self, d, **kwargs)\u001b[0m\n\u001b[0;32m     95\u001b[0m         \u001b[1;32mif\u001b[0m \u001b[0mkwargs\u001b[0m\u001b[1;33m:\u001b[0m\u001b[1;33m\u001b[0m\u001b[0m\n\u001b[0;32m     96\u001b[0m             \u001b[0md\u001b[0m\u001b[1;33m.\u001b[0m\u001b[0mupdate\u001b[0m\u001b[1;33m(\u001b[0m\u001b[1;33m**\u001b[0m\u001b[0mkwargs\u001b[0m\u001b[1;33m)\u001b[0m\u001b[1;33m\u001b[0m\u001b[0m\n\u001b[1;32m---> 97\u001b[1;33m         \u001b[1;32mfor\u001b[0m \u001b[0mk\u001b[0m\u001b[1;33m,\u001b[0m \u001b[0mv\u001b[0m \u001b[1;32min\u001b[0m \u001b[0md\u001b[0m\u001b[1;33m.\u001b[0m\u001b[0mitems\u001b[0m\u001b[1;33m(\u001b[0m\u001b[1;33m)\u001b[0m\u001b[1;33m:\u001b[0m\u001b[1;33m\u001b[0m\u001b[0m\n\u001b[0m\u001b[0;32m     98\u001b[0m             \u001b[0msetattr\u001b[0m\u001b[1;33m(\u001b[0m\u001b[0mself\u001b[0m\u001b[1;33m,\u001b[0m \u001b[0mk\u001b[0m\u001b[1;33m,\u001b[0m \u001b[0mv\u001b[0m\u001b[1;33m)\u001b[0m\u001b[1;33m\u001b[0m\u001b[0m\n\u001b[0;32m     99\u001b[0m         \u001b[1;31m# Class attributes\u001b[0m\u001b[1;33m\u001b[0m\u001b[1;33m\u001b[0m\u001b[0m\n",
      "\u001b[1;31mAttributeError\u001b[0m: 'set' object has no attribute 'items'"
     ]
    }
   ],
   "source": [
    "Declare command-line flags.\n",
    "argparser = argparse.ArgumentParser(add_help=False)\n",
    "argparser.add_argument(\n",
    "    '112473040', type=int,\n",
    "    help='The ID of the report to get a file for')\n",
    "argparser.add_argument(\n",
    "    '698165673', type=int,\n",
    "    help='The ID of the file to get')\n",
    "\n",
    "\n",
    "\n",
    "# Chunk size to use when downloading report files. Defaults to 32MB.\n",
    "CHUNK_SIZE = 32 * 1024 * 1024"
   ]
  },
  {
   "cell_type": "code",
   "execution_count": 14,
   "metadata": {},
   "outputs": [],
   "source": [
    "def main(argv):\n",
    "  # Retrieve command line arguments.\n",
    "  flags = dfareporting_utils.get_arguments(argv, __doc__, parents=[argparser])\n",
    "\n",
    "  # Authenticate and construct service.\n",
    "  service = dfareporting_utils.setup(flags)\n",
    "\n",
    "  report_id = flags.report_id\n",
    "  file_id = flags.file_id\n",
    "\n",
    "  try:\n",
    "    # Retrieve the file metadata.\n",
    "    report_file = service.files().get(reportId=report_id,\n",
    "                                      fileId=file_id).execute()\n",
    "\n",
    "    if report_file['status'] == 'REPORT_AVAILABLE':\n",
    "      # Prepare a local file to download the report contents to.\n",
    "      out_file = io.FileIO(generate_file_name(report_file), mode='wb')\n",
    "\n",
    "      # Create a get request.\n",
    "      request = service.files().get_media(reportId=report_id, fileId=file_id)\n",
    "\n",
    "      # Create a media downloader instance.\n",
    "      # Optional: adjust the chunk size used when downloading the file.\n",
    "      downloader = http.MediaIoBaseDownload(out_file, request,\n",
    "                                            chunksize=CHUNK_SIZE)\n",
    "\n",
    "      # Execute the get request and download the file.\n",
    "      download_finished = False\n",
    "      while download_finished is False:\n",
    "        _, download_finished = downloader.next_chunk()\n",
    "\n",
    "      print('File %s downloaded to %s'\n",
    "            % (report_file['id'], os.path.realpath(out_file.name)))\n",
    "\n",
    "  except client.AccessTokenRefreshError:\n",
    "    print ('The credentials have been revoked or expired, please re-run the '\n",
    "           'application to re-authorize')"
   ]
  },
  {
   "cell_type": "code",
   "execution_count": 15,
   "metadata": {},
   "outputs": [],
   "source": [
    "def generate_file_name(report_file):\n",
    "  \"\"\"Generates a report file name based on the file metadata.\"\"\"\n",
    "  # If no filename is specified, use the file ID instead.\n",
    "  file_name = report_file['fileName'] or report_file['id']\n",
    "  extension = '.csv' if report_file['format'] == 'CSV' else '.xml'\n",
    "  return file_name + extension"
   ]
  },
  {
   "cell_type": "code",
   "execution_count": 16,
   "metadata": {},
   "outputs": [
    {
     "name": "stderr",
     "output_type": "stream",
     "text": [
      "usage: ipykernel_launcher.py [-h] [--auth_host_name AUTH_HOST_NAME]\n",
      "                             [--noauth_local_webserver]\n",
      "                             [--auth_host_port [AUTH_HOST_PORT [AUTH_HOST_PORT ...]]]\n",
      "                             [--logging_level {DEBUG,INFO,WARNING,ERROR,CRITICAL}]\n",
      "                             112473040 698165673\n",
      "ipykernel_launcher.py: error: argument 112473040: invalid int value: 'C:\\\\Users\\\\cesar.requena\\\\AppData\\\\Roaming\\\\jupyter\\\\runtime\\\\kernel-0093a03b-c226-4f51-aa91-138ca9a66f8e.json'\n"
     ]
    },
    {
     "ename": "SystemExit",
     "evalue": "2",
     "output_type": "error",
     "traceback": [
      "An exception has occurred, use %tb to see the full traceback.\n",
      "\u001b[1;31mSystemExit\u001b[0m\u001b[1;31m:\u001b[0m 2\n"
     ]
    },
    {
     "name": "stderr",
     "output_type": "stream",
     "text": [
      "C:\\Users\\cesar.requena\\AppData\\Local\\Continuum\\Anaconda3\\lib\\site-packages\\IPython\\core\\interactiveshell.py:2889: UserWarning: To exit: use 'exit', 'quit', or Ctrl-D.\n",
      "  warn(\"To exit: use 'exit', 'quit', or Ctrl-D.\", stacklevel=1)\n"
     ]
    }
   ],
   "source": [
    "if __name__ == '__main__':\n",
    "  main(sys.argv)"
   ]
  },
  {
   "cell_type": "code",
   "execution_count": null,
   "metadata": {},
   "outputs": [],
   "source": []
  }
 ],
 "metadata": {
  "kernelspec": {
   "display_name": "Python 3",
   "language": "python",
   "name": "python3"
  },
  "language_info": {
   "codemirror_mode": {
    "name": "ipython",
    "version": 3
   },
   "file_extension": ".py",
   "mimetype": "text/x-python",
   "name": "python",
   "nbconvert_exporter": "python",
   "pygments_lexer": "ipython3",
   "version": "3.6.1"
  }
 },
 "nbformat": 4,
 "nbformat_minor": 2
}
